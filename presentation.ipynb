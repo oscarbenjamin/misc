{
 "cells": [
  {
   "cell_type": "markdown",
   "id": "90d3bd93",
   "metadata": {
    "slideshow": {
     "slide_type": "slide"
    }
   },
   "source": [
    "# Polynomials in nonlinear dynamics\n",
    "\n",
    "## EMRG seminar 7th October 2022\n",
    "\n",
    "### Oscar Benjamin"
   ]
  },
  {
   "cell_type": "markdown",
   "id": "dde46722",
   "metadata": {
    "slideshow": {
     "slide_type": "slide"
    }
   },
   "source": [
    "## Outline\n",
    "\n",
    "- Review of basic nonlinear dynamics workflow\n",
    "- Radical formulae and Abel-Ruffini theorem\n",
    "- Calculating roots numerically\n",
    "- Working with roots symbolically\n",
    "- Resultants and discriminants\n",
    "- Groebner bases\n",
    "- Worked examples"
   ]
  },
  {
   "cell_type": "code",
   "execution_count": 1,
   "id": "8f4f1efa",
   "metadata": {},
   "outputs": [],
   "source": [
    "from sympy import *\n",
    "init_printing()"
   ]
  },
  {
   "cell_type": "markdown",
   "id": "97485cac",
   "metadata": {
    "slideshow": {
     "slide_type": "slide"
    }
   },
   "source": [
    "## Nonlinear dynamics example\n",
    "\n",
    "Techniques today are general but we need a target problem to demonstrate them.\n",
    "\n",
    "Consider a system of ODEs something like Lotka Volterra:\n",
    "\n",
    "$$\n",
    "\\begin{align}\n",
    "\\dot{x} &= \\alpha x - \\beta x y \\\\\n",
    "\\dot{y} &= \\delta x y - \\gamma y\n",
    "\\end{align}\n",
    "$$\n",
    "\n",
    "- The rhs are polynomial functions of $x$ and $y$.\n",
    "- The coefficients are polynomials in $\\alpha$, ...\n",
    "- Algebraically this is $\\mathbb{Q}[\\alpha,\\beta,\\delta,\\gamma][x, y]$\n",
    "- Explicit solutions like $x = f(t)$ are not easily obtained.\n",
    "- Study behaviour qualitatively"
   ]
  },
  {
   "cell_type": "markdown",
   "id": "fb83656a",
   "metadata": {
    "slideshow": {
     "slide_type": "subslide"
    }
   },
   "source": [
    "# Equilibrium analysis\n",
    "\n",
    "- Solve for the equilibria\n",
    "- How do they depend on the parameters?"
   ]
  },
  {
   "cell_type": "code",
   "execution_count": 2,
   "id": "271880a3",
   "metadata": {},
   "outputs": [
    {
     "data": {
      "image/png": "[encoded data removed]",
      "text/latex": [
       "$\\displaystyle \\left[ \\alpha x - \\beta x y, \\  \\delta x y - \\gamma y\\right]$"
      ],
      "text/plain": [
       "[α⋅x - β⋅x⋅y, δ⋅x⋅y - γ⋅y]"
      ]
     },
     "metadata": {},
     "output_type": "display_data"
    }
   ],
   "source": [
    "alpha, beta, delta, gamma, x, y = symbols('alpha, beta, delta, gamma, x, y')\n",
    "\n",
    "eqs_rhs = [alpha*x - beta*x*y, delta*x*y - gamma*y]\n",
    "\n",
    "display(eqs_rhs)"
   ]
  },
  {
   "cell_type": "code",
   "execution_count": 3,
   "id": "4e3ca550",
   "metadata": {},
   "outputs": [
    {
     "data": {
      "image/png": "[encoded data removed]",
      "text/latex": [
       "$\\displaystyle \\left\\{ x : 0, \\  y : 0\\right\\}$"
      ],
      "text/plain": [
       "{x: 0, y: 0}"
      ]
     },
     "metadata": {},
     "output_type": "display_data"
    },
    {
     "data": {
      "image/png": "[encoded data removed]",
      "text/latex": [
       "$\\displaystyle \\left\\{ x : \\frac{\\gamma}{\\delta}, \\  y : \\frac{\\alpha}{\\beta}\\right\\}$"
      ],
      "text/plain": [
       "⎧   γ     α⎫\n",
       "⎨x: ─, y: ─⎬\n",
       "⎩   δ     β⎭"
      ]
     },
     "metadata": {},
     "output_type": "display_data"
    }
   ],
   "source": [
    "sol1, sol2 = solve(eqs_rhs, [x, y], dict=True)\n",
    "display(sol1)\n",
    "display(sol2)"
   ]
  },
  {
   "cell_type": "markdown",
   "id": "f48f82e6",
   "metadata": {
    "slideshow": {
     "slide_type": "subslide"
    }
   },
   "source": [
    "# Linear stability\n",
    "\n",
    "- Calculate the Jacobian\n",
    "- Substitute the equilbria and calculate eigenvalues\n",
    "- See where eigenvalues are in the complex plane"
   ]
  },
  {
   "cell_type": "code",
   "execution_count": 4,
   "id": "194c3ee9",
   "metadata": {},
   "outputs": [
    {
     "data": {
      "image/png": "[encoded data removed]",
      "text/latex": [
       "$\\displaystyle \\left[\\begin{matrix}\\alpha - \\beta y & - \\beta x\\\\\\delta y & \\delta x - \\gamma\\end{matrix}\\right]$"
      ],
      "text/plain": [
       "⎡α - β⋅y   -β⋅x  ⎤\n",
       "⎢                ⎥\n",
       "⎣  δ⋅y    δ⋅x - γ⎦"
      ]
     },
     "metadata": {},
     "output_type": "display_data"
    }
   ],
   "source": [
    "J = Matrix(eqs_rhs).jacobian([x, y])\n",
    "display(J)"
   ]
  },
  {
   "cell_type": "code",
   "execution_count": 5,
   "id": "c8dc80a7",
   "metadata": {},
   "outputs": [
    {
     "data": {
      "image/png": "[encoded data removed]",
      "text/latex": [
       "$\\displaystyle \\left\\{ \\alpha : 1, \\  - \\gamma : 1\\right\\}$"
      ],
      "text/plain": [
       "{α: 1, -γ: 1}"
      ]
     },
     "execution_count": 5,
     "metadata": {},
     "output_type": "execute_result"
    }
   ],
   "source": [
    "J.subs(sol1).eigenvals() # unstable if alpha > 0"
   ]
  },
  {
   "cell_type": "code",
   "execution_count": 6,
   "id": "1601a98c",
   "metadata": {},
   "outputs": [
    {
     "data": {
      "image/png": "[encoded data removed]",
      "text/latex": [
       "$\\displaystyle \\left\\{ - \\sqrt{- \\alpha \\gamma} : 1, \\  \\sqrt{- \\alpha \\gamma} : 1\\right\\}$"
      ],
      "text/plain": [
       "⎧   ______       ______   ⎫\n",
       "⎨-╲╱ -α⋅γ : 1, ╲╱ -α⋅γ : 1⎬\n",
       "⎩                         ⎭"
      ]
     },
     "execution_count": 6,
     "metadata": {},
     "output_type": "execute_result"
    }
   ],
   "source": [
    "J.subs(sol2).eigenvals() # imaginary eigenvalues"
   ]
  },
  {
   "cell_type": "markdown",
   "id": "5a8ea1fc",
   "metadata": {
    "slideshow": {
     "slide_type": "subslide"
    }
   },
   "source": [
    "## Equilibrium analysis\n",
    "\n",
    "1. Solve equilibrium equations for $(x_1,y_1), (x_2,y_2), \\ldots$.\n",
    "2. Compute Jacobian, $J$.\n",
    "3. Substitute equilibrium solutions to get $J_1, J_2, \\ldots$.\n",
    "4. Compute eigenvalues $\\lambda_{i1}, \\lambda_{i2}, \\ldots$ of $J_i$.\n",
    "\n",
    "**Note:** Steps 1 and 4 involve \"solving\" polynomial equations but we don't really want the solutions: $(x_i, y_i)$ are only needed to get $J_i$ which is only needed for $\\lambda_{ij}$. Actually we don't even really need $\\lambda_{ij}$. What we do want is:\n",
    "\n",
    "1. Know how many equilibria there are.\n",
    "2. Say which part of the complex plane the eigenvalues are in.\n",
    "3. Find bifurcations of equilibria or eigenvalues"
   ]
  },
  {
   "cell_type": "markdown",
   "id": "b2c3e61e",
   "metadata": {
    "slideshow": {
     "slide_type": "slide"
    }
   },
   "source": [
    "# Calculating roots of polynomials\n",
    "\n",
    "Quadratic formula:"
   ]
  },
  {
   "cell_type": "code",
   "execution_count": 7,
   "id": "7df6bdfa",
   "metadata": {},
   "outputs": [
    {
     "data": {
      "image/png": "[encoded data removed]",
      "text/latex": [
       "$\\displaystyle a x^{2} + b x + c$"
      ],
      "text/plain": [
       "   2          \n",
       "a⋅x  + b⋅x + c"
      ]
     },
     "metadata": {},
     "output_type": "display_data"
    },
    {
     "data": {
      "image/png": "[encoded data removed]",
      "text/latex": [
       "$\\displaystyle \\left\\{ - \\frac{b}{2 a} - \\frac{\\sqrt{- 4 a c + b^{2}}}{2 a} : 1, \\  - \\frac{b}{2 a} + \\frac{\\sqrt{- 4 a c + b^{2}}}{2 a} : 1\\right\\}$"
      ],
      "text/plain": [
       "⎧           _____________                _____________   ⎫\n",
       "⎪          ╱           2                ╱           2    ⎪\n",
       "⎨   b    ╲╱  -4⋅a⋅c + b          b    ╲╱  -4⋅a⋅c + b     ⎬\n",
       "⎪- ─── - ────────────────: 1, - ─── + ────────────────: 1⎪\n",
       "⎩  2⋅a         2⋅a              2⋅a         2⋅a          ⎭"
      ]
     },
     "metadata": {},
     "output_type": "display_data"
    }
   ],
   "source": [
    "a, b, c, d, e, x = symbols('a, b, c, d, e, x')\n",
    "\n",
    "p2 = a*x**2 + b*x + c\n",
    "display(p2)\n",
    "display(roots(p2, x))"
   ]
  },
  {
   "cell_type": "markdown",
   "id": "5ba2e1b4",
   "metadata": {},
   "source": [
    "- $b^2 - 4ac$ is the discriminant $\\Delta$\n",
    "- $\\Delta = 0$ implies a double root.\n",
    "- $\\Delta = 0$ separates the cases of real and non-real roots.\n",
    "- Formula breaks down for $a = 0$."
   ]
  },
  {
   "cell_type": "markdown",
   "id": "4a3a1b47",
   "metadata": {
    "slideshow": {
     "slide_type": "slide"
    }
   },
   "source": [
    "# Cubic formula"
   ]
  },
  {
   "cell_type": "code",
   "execution_count": 8,
   "id": "3fa0a947",
   "metadata": {},
   "outputs": [
    {
     "data": {
      "image/png": "[encoded data removed]",
      "text/latex": [
       "$\\displaystyle - \\frac{- \\frac{3 c}{a} + \\frac{b^{2}}{a^{2}}}{3 \\sqrt[3]{\\frac{\\sqrt{- 4 \\left(- \\frac{3 c}{a} + \\frac{b^{2}}{a^{2}}\\right)^{3} + \\left(\\frac{27 d}{a} - \\frac{9 b c}{a^{2}} + \\frac{2 b^{3}}{a^{3}}\\right)^{2}}}{2} + \\frac{27 d}{2 a} - \\frac{9 b c}{2 a^{2}} + \\frac{b^{3}}{a^{3}}}} - \\frac{\\sqrt[3]{\\frac{\\sqrt{- 4 \\left(- \\frac{3 c}{a} + \\frac{b^{2}}{a^{2}}\\right)^{3} + \\left(\\frac{27 d}{a} - \\frac{9 b c}{a^{2}} + \\frac{2 b^{3}}{a^{3}}\\right)^{2}}}{2} + \\frac{27 d}{2 a} - \\frac{9 b c}{2 a^{2}} + \\frac{b^{3}}{a^{3}}}}{3} - \\frac{b}{3 a}$"
      ],
      "text/plain": [
       "                                                                                                   \n",
       "                                                                                                   \n",
       "                                                                                                   \n",
       "                                                                                                   \n",
       "                                                                                                  ╱\n",
       "                                                                                                 ╱ \n",
       "                                                 2                                              ╱  \n",
       "                                          3⋅c   b                                              ╱   \n",
       "                                        - ─── + ──                                            ╱    \n",
       "                                           a     2                                         3 ╱     \n",
       "                                                a                                          ╲╱      \n",
       "- ────────────────────────────────────────────────────────────────────────────────────── - ────────\n",
       "               _________________________________________________________________________           \n",
       "              ╱        ____________________________________________                                \n",
       "             ╱        ╱                 3                        2                                 \n",
       "            ╱        ╱      ⎛         2⎞    ⎛                  3⎞                                  \n",
       "           ╱        ╱       ⎜  3⋅c   b ⎟    ⎜27⋅d   9⋅b⋅c   2⋅b ⎟                                  \n",
       "          ╱        ╱    - 4⋅⎜- ─── + ──⎟  + ⎜──── - ───── + ────⎟                                  \n",
       "         ╱        ╱         ⎜   a     2⎟    ⎜ a        2      3 ⎟                     3            \n",
       "        ╱       ╲╱          ⎝        a ⎠    ⎝         a      a  ⎠     27⋅d   9⋅b⋅c   b             \n",
       "  3⋅   ╱        ─────────────────────────────────────────────────── + ──── - ───── + ──            \n",
       "    3 ╱                                  2                            2⋅a        2    3            \n",
       "    ╲╱                                                                        2⋅a    a             \n",
       "\n",
       "   _________________________________________________________________________      \n",
       "  ╱        ____________________________________________                           \n",
       " ╱        ╱                 3                        2                            \n",
       "╱        ╱      ⎛         2⎞    ⎛                  3⎞                             \n",
       "        ╱       ⎜  3⋅c   b ⎟    ⎜27⋅d   9⋅b⋅c   2⋅b ⎟                             \n",
       "       ╱    - 4⋅⎜- ─── + ──⎟  + ⎜──── - ───── + ────⎟                             \n",
       "      ╱         ⎜   a     2⎟    ⎜ a        2      3 ⎟                     3       \n",
       "    ╲╱          ⎝        a ⎠    ⎝         a      a  ⎠     27⋅d   9⋅b⋅c   b        \n",
       "    ─────────────────────────────────────────────────── + ──── - ───── + ──       \n",
       "                             2                            2⋅a        2    3       \n",
       "                                                                  2⋅a    a      b \n",
       "──────────────────────────────────────────────────────────────────────────── - ───\n",
       "                                 3                                             3⋅a\n",
       "                                                                                  \n",
       "                                                                                  \n",
       "                                                                                  \n",
       "                                                                                  \n",
       "                                                                                  \n",
       "                                                                                  \n",
       "                                                                                  \n",
       "                                                                                  \n",
       "                                                                                  \n",
       "                                                                                  "
      ]
     },
     "metadata": {},
     "output_type": "display_data"
    }
   ],
   "source": [
    "p3 = a*x**3 + b*x**2 + c*x + d\n",
    "\n",
    "r1, r2, r3 = roots(p3, x)\n",
    "display(r1)"
   ]
  },
  {
   "cell_type": "code",
   "execution_count": 9,
   "id": "ef0577a9",
   "metadata": {},
   "outputs": [
    {
     "data": {
      "image/png": "[encoded data removed]",
      "text/latex": [
       "$\\displaystyle - 27 a^{2} d^{2} + 18 a b c d - 4 a c^{3} - 4 b^{3} d + b^{2} c^{2}$"
      ],
      "text/plain": [
       "      2  2                     3      3      2  2\n",
       "- 27⋅a ⋅d  + 18⋅a⋅b⋅c⋅d - 4⋅a⋅c  - 4⋅b ⋅d + b ⋅c "
      ]
     },
     "execution_count": 9,
     "metadata": {},
     "output_type": "execute_result"
    }
   ],
   "source": [
    "discriminant(p3, x)"
   ]
  },
  {
   "cell_type": "markdown",
   "id": "5320aaa2",
   "metadata": {},
   "source": [
    "- Always one real root\n",
    "- Other roots might be real or non-real ($\\Delta=0$ separates the cases)\n",
    "- Casus irreducibilus means complex numbers needed for real roots"
   ]
  },
  {
   "cell_type": "markdown",
   "id": "2ddbaea8",
   "metadata": {
    "slideshow": {
     "slide_type": "subslide"
    }
   },
   "source": [
    "# Quartic formula"
   ]
  },
  {
   "cell_type": "code",
   "execution_count": 10,
   "id": "0f9a3941",
   "metadata": {
    "scrolled": true
   },
   "outputs": [
    {
     "data": {
      "image/png": "[encoded data removed]",
      "text/latex": [
       "$\\displaystyle 256 a^{3} e^{3} - 192 a^{2} b d e^{2} - 128 a^{2} c^{2} e^{2} + 144 a^{2} c d^{2} e - 27 a^{2} d^{4} + 144 a b^{2} c e^{2} - 6 a b^{2} d^{2} e - 80 a b c^{2} d e + 18 a b c d^{3} + 16 a c^{4} e - 4 a c^{3} d^{2} - 27 b^{4} e^{2} + 18 b^{3} c d e - 4 b^{3} d^{3} - 4 b^{2} c^{3} e + b^{2} c^{2} d^{2}$"
      ],
      "text/plain": [
       "     3  3        2      2        2  2  2        2    2         2  4          2    2        2  2    \n",
       "256⋅a ⋅e  - 192⋅a ⋅b⋅d⋅e  - 128⋅a ⋅c ⋅e  + 144⋅a ⋅c⋅d ⋅e - 27⋅a ⋅d  + 144⋅a⋅b ⋅c⋅e  - 6⋅a⋅b ⋅d ⋅e -\n",
       "\n",
       "         2                 3         4          3  2       4  2       3            3  3      2  3  \n",
       " 80⋅a⋅b⋅c ⋅d⋅e + 18⋅a⋅b⋅c⋅d  + 16⋅a⋅c ⋅e - 4⋅a⋅c ⋅d  - 27⋅b ⋅e  + 18⋅b ⋅c⋅d⋅e - 4⋅b ⋅d  - 4⋅b ⋅c ⋅e\n",
       "\n",
       "    2  2  2\n",
       " + b ⋅c ⋅d "
      ]
     },
     "metadata": {},
     "output_type": "display_data"
    },
    {
     "data": {
      "text/plain": [
       "'Piecewise((-sqrt(-2*(-(c/a - 3*b**2/(8*a**2))**3/108 + (c/a - 3*b**2/(8*a**2))*(e/a - b*d/(4*a**2) + b**2*c/(16*a**3) - 3*b**4/(256*a**4))/3 - (d/a - b*c/(2*a**2) + b**3/(8*a**3))**2/8)**(1/3) - 2*c/(3*a) + b**2/(4*a**2))/2 + sqrt((2*d/a - b*c/a**2 + b**3/(4*a**3))/sqrt(-2*(-(c/a - 3*b**2/(8*a**2))**3/108 + (c/a - 3*b**2/(8*a**2))*(e/a - b*d/(4*a**2) + b**2*c/(16*a**3) - 3*b**4/(256*a**4))/3 - (d/a - b*c/(2*a**2) + b**3/(8*a**3))**2/8)**(1/3) - 2*c/(3*a) + b**2/(4*a**2)) + 2*(-(c/a - 3*b**2/(8*a**2))**3/108 + (c/a - 3*b**2/(8*a**2))*(e/a - b*d/(4*a**2) + b**2*c/(16*a**3) - 3*b**4/(256*a**4))/3 - (d/a - b*c/(2*a**2) + b**3/(8*a**3))**2/8)**(1/3) - 4*c/(3*a) + b**2/(2*a**2))/2 - b/(4*a), Eq(e/a - b*d/(4*a**2) + c**2/(12*a**2), 0)), (-sqrt(-2*(-e/a + b*d/(4*a**2) - c**2/(12*a**2))/(3*((c/a - 3*b**2/(8*a**2))**3/216 - (c/a - 3*b**2/(8*a**2))*(e/a - b*d/(4*a**2) + b**2*c/(16*a**3) - 3*b**4/(256*a**4))/6 + sqrt((-e/a + b*d/(4*a**2) - c**2/(12*a**2))**3/27 + (-(c/a - 3*b**2/(8*a**2))**3/108 + (c/a - 3*b**2/(8*a**2))*(e/a - b*d/(4*a**2) + b**2*c/(16*a**3) - 3*b**4/(256*a**4))/3 - (d/a - b*c/(2*a**2) + b**3/(8*a**3))**2/8)**2/4) + (d/a - b*c/(2*a**2) + b**3/(8*a**3))**2/16)**(1/3)) + 2*((c/a - 3*b**2/(8*a**2))**3/216 - (c/a - 3*b**2/(8*a**2))*(e/a - b*d/(4*a**2) + b**2*c/(16*a**3) - 3*b**4/(256*a**4))/6 + sqrt((-e/a + b*d/(4*a**2) - c**2/(12*a**2))**3/27 + (-(c/a - 3*b**2/(8*a**2))**3/108 + (c/a - 3*b**2/(8*a**2))*(e/a - b*d/(4*a**2) + b**2*c/(16*a**3) - 3*b**4/(256*a**4))/3 - (d/a - b*c/(2*a**2) + b**3/(8*a**3))**2/8)**2/4) + (d/a - b*c/(2*a**2) + b**3/(8*a**3))**2/16)**(1/3) - 2*c/(3*a) + b**2/(4*a**2))/2 + sqrt((2*d/a - b*c/a**2 + b**3/(4*a**3))/sqrt(-2*(-e/a + b*d/(4*a**2) - c**2/(12*a**2))/(3*((c/a - 3*b**2/(8*a**2))**3/216 - (c/a - 3*b**2/(8*a**2))*(e/a - b*d/(4*a**2) + b**2*c/(16*a**3) - 3*b**4/(256*a**4))/6 + sqrt((-e/a + b*d/(4*a**2) - c**2/(12*a**2))**3/27 + (-(c/a - 3*b**2/(8*a**2))**3/108 + (c/a - 3*b**2/(8*a**2))*(e/a - b*d/(4*a**2) + b**2*c/(16*a**3) - 3*b**4/(256*a**4))/3 - (d/a - b*c/(2*a**2) + b**3/(8*a**3))**2/8)**2/4) + (d/a - b*c/(2*a**2) + b**3/(8*a**3))**2/16)**(1/3)) + 2*((c/a - 3*b**2/(8*a**2))**3/216 - (c/a - 3*b**2/(8*a**2))*(e/a - b*d/(4*a**2) + b**2*c/(16*a**3) - 3*b**4/(256*a**4))/6 + sqrt((-e/a + b*d/(4*a**2) - c**2/(12*a**2))**3/27 + (-(c/a - 3*b**2/(8*a**2))**3/108 + (c/a - 3*b**2/(8*a**2))*(e/a - b*d/(4*a**2) + b**2*c/(16*a**3) - 3*b**4/(256*a**4))/3 - (d/a - b*c/(2*a**2) + b**3/(8*a**3))**2/8)**2/4) + (d/a - b*c/(2*a**2) + b**3/(8*a**3))**2/16)**(1/3) - 2*c/(3*a) + b**2/(4*a**2)) + 2*(-e/a + b*d/(4*a**2) - c**2/(12*a**2))/(3*((c/a - 3*b**2/(8*a**2))**3/216 - (c/a - 3*b**2/(8*a**2))*(e/a - b*d/(4*a**2) + b**2*c/(16*a**3) - 3*b**4/(256*a**4))/6 + sqrt((-e/a + b*d/(4*a**2) - c**2/(12*a**2))**3/27 + (-(c/a - 3*b**2/(8*a**2))**3/108 + (c/a - 3*b**2/(8*a**2))*(e/a - b*d/(4*a**2) + b**2*c/(16*a**3) - 3*b**4/(256*a**4))/3 - (d/a - b*c/(2*a**2) + b**3/(8*a**3))**2/8)**2/4) + (d/a - b*c/(2*a**2) + b**3/(8*a**3))**2/16)**(1/3)) - 2*((c/a - 3*b**2/(8*a**2))**3/216 - (c/a - 3*b**2/(8*a**2))*(e/a - b*d/(4*a**2) + b**2*c/(16*a**3) - 3*b**4/(256*a**4))/6 + sqrt((-e/a + b*d/(4*a**2) - c**2/(12*a**2))**3/27 + (-(c/a - 3*b**2/(8*a**2))**3/108 + (c/a - 3*b**2/(8*a**2))*(e/a - b*d/(4*a**2) + b**2*c/(16*a**3) - 3*b**4/(256*a**4))/3 - (d/a - b*c/(2*a**2) + b**3/(8*a**3))**2/8)**2/4) + (d/a - b*c/(2*a**2) + b**3/(8*a**3))**2/16)**(1/3) - 4*c/(3*a) + b**2/(2*a**2))/2 - b/(4*a), True))'"
      ]
     },
     "metadata": {},
     "output_type": "display_data"
    }
   ],
   "source": [
    "p4 = a*x**4 + b*x**3 + c*x**2 + d*x + e\n",
    "\n",
    "r1, r2, r3, r4 = roots(p4, x)\n",
    "display(discriminant(p4, x))\n",
    "display(str(r1))"
   ]
  },
  {
   "cell_type": "markdown",
   "id": "725c7a4f",
   "metadata": {
    "slideshow": {
     "slide_type": "subslide"
    }
   },
   "source": [
    "# Quintic formula?\n",
    "\n",
    "**Abel-Ruffini Theorem:** polynomials of degree 5 or more can (and usually do) have roots that are not expressible in radicals.\n",
    "\n",
    "- No general radical formula for roots of polynomials of degree 5 or more.\n",
    "- No explicit expression for eigenvalues of bigger than 4x4 matrix (unless lucky).\n",
    "- No explicit solutions for most polynomial systems more complicated than a pair of quadratic equations.\n",
    "- Equilibrium analysis workflow breaks down in two places\n",
    "\n",
    "**HOWEVER:** Radicals are horrible anyway. Better to work with the polynomials themselves!"
   ]
  },
  {
   "cell_type": "markdown",
   "id": "a0ff6c23",
   "metadata": {
    "slideshow": {
     "slide_type": "slide"
    }
   },
   "source": [
    "# Calculating polynomial roots numerically\n",
    "\n",
    "Different kinds of \"numerics\":\n",
    "\n",
    "- Ordinary fixed precision floating point (e.g. IEE 754 64-bit binary floats).\n",
    "- Variable precision floating point\n",
    "- Robust numerics (adaptive precision with error control)\n",
    "- Certified numerics (adaptive precision with hard error bounds)\n",
    "- Exact numerics\n",
    "\n",
    "We need robust, certified and/or exact numerics because polynomials can easily be numerically ill conditioned."
   ]
  },
  {
   "cell_type": "markdown",
   "id": "5f0e3963",
   "metadata": {
    "slideshow": {
     "slide_type": "subslide"
    }
   },
   "source": [
    "# Wilkinson's polynomial"
   ]
  },
  {
   "cell_type": "code",
   "execution_count": 11,
   "id": "48171d79",
   "metadata": {
    "scrolled": true
   },
   "outputs": [
    {
     "data": {
      "image/png": "[encoded data removed]",
      "text/latex": [
       "$\\displaystyle \\left(x - 30\\right) \\left(x - 29\\right) \\left(x - 28\\right) \\left(x - 27\\right) \\left(x - 26\\right) \\left(x - 25\\right) \\left(x - 24\\right) \\left(x - 23\\right) \\left(x - 22\\right) \\left(x - 21\\right) \\left(x - 20\\right) \\left(x - 19\\right) \\left(x - 18\\right) \\left(x - 17\\right) \\left(x - 16\\right) \\left(x - 15\\right) \\left(x - 14\\right) \\left(x - 13\\right) \\left(x - 12\\right) \\left(x - 11\\right) \\left(x - 10\\right) \\left(x - 9\\right) \\left(x - 8\\right) \\left(x - 7\\right) \\left(x - 6\\right) \\left(x - 5\\right) \\left(x - 4\\right) \\left(x - 3\\right) \\left(x - 2\\right) \\left(x - 1\\right)$"
      ],
      "text/plain": [
       "(x - 30)⋅(x - 29)⋅(x - 28)⋅(x - 27)⋅(x - 26)⋅(x - 25)⋅(x - 24)⋅(x - 23)⋅(x - 22)⋅(x - 21)⋅(x - 20)⋅\n",
       "(x - 19)⋅(x - 18)⋅(x - 17)⋅(x - 16)⋅(x - 15)⋅(x - 14)⋅(x - 13)⋅(x - 12)⋅(x - 11)⋅(x - 10)⋅(x - 9)⋅(\n",
       "x - 8)⋅(x - 7)⋅(x - 6)⋅(x - 5)⋅(x - 4)⋅(x - 3)⋅(x - 2)⋅(x - 1)"
      ]
     },
     "metadata": {},
     "output_type": "display_data"
    }
   ],
   "source": [
    "x = symbols('x')\n",
    "p30 = prod((x-i) for i in range(1, 30+1))\n",
    "display(p30)"
   ]
  },
  {
   "cell_type": "code",
   "execution_count": 12,
   "id": "7bf880aa",
   "metadata": {},
   "outputs": [
    {
     "name": "stdout",
     "output_type": "stream",
     "text": [
      "(0.9999999999994551+0j)\n",
      "(2.000000000250995+0j)\n",
      "(2.9999999926059138+0j)\n",
      "(3.999999294247679+0j)\n",
      "(5.00004638481539+0j)\n",
      "(5.9987463379287576+0j)\n",
      "(7.021602586805359+0j)\n",
      "(7.8382036869352785+0j)\n",
      "(9.025211412899349-0.8083753256127859j)\n",
      "(9.025211412899349+0.8083753256127859j)\n",
      "(10.723553865592574-1.9306279011082428j)\n",
      "(10.723553865592574+1.9306279011082428j)\n",
      "(11.53631012099385+0j)\n",
      "(12.504583818617618-3.238844826207244j)\n",
      "(12.504583818617618+3.238844826207244j)\n",
      "(14.47784030615794-4.520357732585603j)\n",
      "(14.47784030615794+4.520357732585603j)\n",
      "(16.840208236370486-5.691123695663629j)\n",
      "(16.840208236370486+5.691123695663629j)\n",
      "(19.663103091172992-6.552325545204997j)\n",
      "(19.663103091172992+6.552325545204997j)\n",
      "(22.870138759680188-6.833600780051718j)\n",
      "(22.870138759680188+6.833600780051718j)\n",
      "(26.193485364613426-6.280870679809583j)\n",
      "(26.193485364613426+6.280870679809583j)\n",
      "(29.175201850215046-4.801073496466787j)\n",
      "(29.175201850215046+4.801073496466787j)\n",
      "(31.291034176749022-2.577521037486846j)\n",
      "(31.291034176749022+2.577521037486846j)\n",
      "(32.07636983128043+0j)\n"
     ]
    }
   ],
   "source": [
    "import numpy as np # Uses fixed precision floats (64 bit)\n",
    "coeffs = Poly(p30, x).all_coeffs()\n",
    "for r in np.roots(coeffs)[::-1]: print(r)"
   ]
  },
  {
   "cell_type": "markdown",
   "id": "03ac1042",
   "metadata": {
    "slideshow": {
     "slide_type": "subslide"
    }
   },
   "source": [
    "# Wilkinson's polynomial with better numerics"
   ]
  },
  {
   "cell_type": "code",
   "execution_count": 13,
   "id": "fc37dc28",
   "metadata": {},
   "outputs": [
    {
     "data": {
      "image/png": "[encoded data removed]",
      "text/latex": [
       "$\\displaystyle \\left[ 1.0, \\  2.0, \\  3.0, \\  4.0, \\  5.0, \\  6.0, \\  7.0, \\  8.0, \\  9.0, \\  10.0, \\  11.0, \\  12.0, \\  13.0, \\  14.0, \\  15.0, \\  16.0, \\  17.0, \\  18.0, \\  19.0, \\  20.0, \\  21.0, \\  22.0, \\  23.0, \\  24.0, \\  25.0, \\  26.0, \\  27.0, \\  28.0, \\  29.0, \\  30.0\\right]$"
      ],
      "text/plain": [
       "[1.0, 2.0, 3.0, 4.0, 5.0, 6.0, 7.0, 8.0, 9.0, 10.0, 11.0, 12.0, 13.0, 14.0, 15.0, 16.0, 17.0, 18.0,\n",
       " 19.0, 20.0, 21.0, 22.0, 23.0, 24.0, 25.0, 26.0, 27.0, 28.0, 29.0, 30.0]"
      ]
     },
     "execution_count": 13,
     "metadata": {},
     "output_type": "execute_result"
    }
   ],
   "source": [
    "# nroots(p30)             # raises NoConvergenceError\n",
    "nroots(p30, maxsteps=100) # succeeds (slowly)"
   ]
  },
  {
   "cell_type": "code",
   "execution_count": 14,
   "id": "f8bf135f",
   "metadata": {},
   "outputs": [
    {
     "data": {
      "image/png": "[encoded data removed]",
      "text/latex": [
       "$\\displaystyle x^{30} - 465 x^{29} + 103385 x^{28} - 14631225 x^{27} + 1480321269 x^{26} - 114009431445 x^{25} + 6949189247325 x^{24} - 344092707928125 x^{23} + 14097793282984515 x^{22} - 484338676679532675 x^{21} + 14090257524223082475 x^{20} - 349600545868057540875 x^{19} + 7435941626111727234855 x^{18} - 136055808711963322871175 x^{17} + 2145883249334501452139775 x^{16} - 29197210605623737977801375 x^{15} + 342563613932937660652700640 x^{14} - 3460266110493898677911394000 x^{13} + 30006513636556697864066736800 x^{12} - 222457423246962063058403076000 x^{11} + 1401937624086807501691142239744 x^{10} - 7454161471690660700139655157760 x^{9} + 33114629767614997850763390570240 x^{8} - 121365366674745136523074652102400 x^{7} + 360930788158836812805614538878976 x^{6} - 851899888505423112503184251412480 x^{5} + 1547794975254719737111781253120000 x^{4} - 2070792202024594683660866641920000 x^{3} + 1902893785240928209998216560640000 x^{2} - 1059681761389533859949327155200000 x + 265252859812191058636308480000000$"
      ],
      "text/plain": [
       " 30        29           28             27               26                 25                  24  \n",
       "x   - 465⋅x   + 103385⋅x   - 14631225⋅x   + 1480321269⋅x   - 114009431445⋅x   + 6949189247325⋅x   -\n",
       "\n",
       "                  23                      22                       21                         20   \n",
       " 344092707928125⋅x   + 14097793282984515⋅x   - 484338676679532675⋅x   + 14090257524223082475⋅x   - \n",
       "\n",
       "                       19                           18                             17              \n",
       "349600545868057540875⋅x   + 7435941626111727234855⋅x   - 136055808711963322871175⋅x   + 21458832493\n",
       "\n",
       "                16                               15                                14              \n",
       "34501452139775⋅x   - 29197210605623737977801375⋅x   + 342563613932937660652700640⋅x   - 34602661104\n",
       "\n",
       "                   13                                  12                                   11     \n",
       "93898677911394000⋅x   + 30006513636556697864066736800⋅x   - 222457423246962063058403076000⋅x   + 14\n",
       "\n",
       "                               10                                    9                             \n",
       "01937624086807501691142239744⋅x   - 7454161471690660700139655157760⋅x  + 33114629767614997850763390\n",
       "\n",
       "        8                                      7                                      6            \n",
       "570240⋅x  - 121365366674745136523074652102400⋅x  + 360930788158836812805614538878976⋅x  - 851899888\n",
       "\n",
       "                          5                                       4                                \n",
       "505423112503184251412480⋅x  + 1547794975254719737111781253120000⋅x  - 20707922020245946836608666419\n",
       "\n",
       "       3                                       2                                                   \n",
       "20000⋅x  + 1902893785240928209998216560640000⋅x  - 1059681761389533859949327155200000⋅x + 265252859\n",
       "\n",
       "                        \n",
       "812191058636308480000000"
      ]
     },
     "metadata": {},
     "output_type": "display_data"
    },
    {
     "data": {
      "image/png": "[encoded data removed]",
      "text/latex": [
       "$\\displaystyle \\left[ 1, \\  2, \\  3, \\  4, \\  5, \\  6, \\  7, \\  8, \\  9, \\  10, \\  11, \\  12, \\  13, \\  14, \\  15, \\  16, \\  17, \\  18, \\  19, \\  20, \\  21, \\  22, \\  23, \\  24, \\  25, \\  26, \\  27, \\  28, \\  29, \\  30\\right]$"
      ],
      "text/plain": [
       "[1, 2, 3, 4, 5, 6, 7, 8, 9, 10, 11, 12, 13, 14, 15, 16, 17, 18, 19, 20, 21, 22, 23, 24, 25, 26, 27,\n",
       " 28, 29, 30]"
      ]
     },
     "metadata": {},
     "output_type": "display_data"
    }
   ],
   "source": [
    "p30e = p30.expand()\n",
    "display(p30e)\n",
    "display(roots(p30e, x, multiple=True)) # SymPy's roots function (uses exact factorisation)"
   ]
  },
  {
   "cell_type": "markdown",
   "id": "e247ec6b",
   "metadata": {
    "slideshow": {
     "slide_type": "subslide"
    }
   },
   "source": [
    "# Exact roots of irreducible polynomials"
   ]
  },
  {
   "cell_type": "code",
   "execution_count": 15,
   "id": "2c138e9b",
   "metadata": {},
   "outputs": [
    {
     "data": {
      "image/png": "[encoded data removed]",
      "text/latex": [
       "$\\displaystyle \\left\\{ \\right\\}$"
      ],
      "text/plain": [
       "{}"
      ]
     },
     "execution_count": 15,
     "metadata": {},
     "output_type": "execute_result"
    }
   ],
   "source": [
    "p5 = x**5 - x + 1 # irreducible quintic\n",
    "roots(p5)         # fails because no radical formula possible"
   ]
  },
  {
   "cell_type": "code",
   "execution_count": 16,
   "id": "318834a6",
   "metadata": {},
   "outputs": [
    {
     "data": {
      "image/png": "[encoded data removed]",
      "text/latex": [
       "$\\displaystyle \\left[ \\operatorname{CRootOf} {\\left(x^{5} - x + 1, 0\\right)}, \\  \\operatorname{CRootOf} {\\left(x^{5} - x + 1, 1\\right)}, \\  \\operatorname{CRootOf} {\\left(x^{5} - x + 1, 2\\right)}, \\  \\operatorname{CRootOf} {\\left(x^{5} - x + 1, 3\\right)}, \\  \\operatorname{CRootOf} {\\left(x^{5} - x + 1, 4\\right)}\\right]$"
      ],
      "text/plain": [
       "⎡       ⎛ 5           ⎞         ⎛ 5           ⎞         ⎛ 5           ⎞         ⎛ 5           ⎞    \n",
       "⎣CRootOf⎝x  - x + 1, 0⎠, CRootOf⎝x  - x + 1, 1⎠, CRootOf⎝x  - x + 1, 2⎠, CRootOf⎝x  - x + 1, 3⎠, CR\n",
       "\n",
       "     ⎛ 5           ⎞⎤\n",
       "ootOf⎝x  - x + 1, 4⎠⎦"
      ]
     },
     "execution_count": 16,
     "metadata": {},
     "output_type": "execute_result"
    }
   ],
   "source": [
    "Poly(p5, x).all_roots()"
   ]
  },
  {
   "cell_type": "markdown",
   "id": "8371cca2",
   "metadata": {},
   "source": [
    "RootOf can represent **all** roots of **any** univariate polynomial with **rational** coefficients (any $p \\in\\mathbb{Q}[x]$).\n",
    "\n",
    "- First factor the polynomial into irreducibles.\n",
    "- Represent a root with an irreducible polynomial and an index.\n",
    "- Exact numeric root isolation algorithm is used to distinguish the roots.\n",
    "- An ordering scheme determines the index of each root.\n",
    "- Fully computable representation of the algebraic numbers $\\bar{\\mathbb{Q}}$."
   ]
  },
  {
   "cell_type": "markdown",
   "id": "6ef63fac",
   "metadata": {
    "slideshow": {
     "slide_type": "subslide"
    }
   },
   "source": [
    "## RootOf\n",
    "\n",
    "- Always determine the exact multiplicity of all roots.\n",
    "- Say precisely which roots are real or not.\n",
    "- Say which are complex conjugates of one another.\n",
    "- Represent roots exactly and also compute arbitrarily accurate approximations."
   ]
  },
  {
   "cell_type": "code",
   "execution_count": 17,
   "id": "5fd3b505",
   "metadata": {},
   "outputs": [
    {
     "data": {
      "image/png": "[encoded data removed]",
      "text/latex": [
       "$\\displaystyle -1.167303978261418684256045899854842180720560371525489039140082449275651903429527053180685205049728673$"
      ],
      "text/plain": [
       "-1.167303978261418684256045899854842180720560371525489039140082449275651903429527053180685205049728\n",
       "673"
      ]
     },
     "metadata": {},
     "output_type": "display_data"
    },
    {
     "data": {
      "text/plain": [
       "True"
      ]
     },
     "metadata": {},
     "output_type": "display_data"
    }
   ],
   "source": [
    "r0 = RootOf(p5, 0)\n",
    "display(r0.evalf(100))\n",
    "display(r0.is_real)"
   ]
  },
  {
   "cell_type": "code",
   "execution_count": 18,
   "id": "78fa5a47",
   "metadata": {},
   "outputs": [
    {
     "data": {
      "image/png": "[encoded data removed]",
      "text/latex": [
       "$\\displaystyle -0.181232444469875 - 1.08395410131771 i$"
      ],
      "text/plain": [
       "-0.181232444469875 - 1.08395410131771⋅ⅈ"
      ]
     },
     "metadata": {},
     "output_type": "display_data"
    },
    {
     "data": {
      "image/png": "[encoded data removed]",
      "text/latex": [
       "$\\displaystyle \\operatorname{CRootOf} {\\left(x^{5} - x + 1, 1\\right)}$"
      ],
      "text/plain": [
       "       ⎛ 5           ⎞\n",
       "CRootOf⎝x  - x + 1, 1⎠"
      ]
     },
     "metadata": {},
     "output_type": "display_data"
    },
    {
     "data": {
      "image/png": "[encoded data removed]",
      "text/latex": [
       "$\\displaystyle \\operatorname{CRootOf} {\\left(x^{5} - x + 1, 2\\right)}$"
      ],
      "text/plain": [
       "       ⎛ 5           ⎞\n",
       "CRootOf⎝x  - x + 1, 2⎠"
      ]
     },
     "metadata": {},
     "output_type": "display_data"
    }
   ],
   "source": [
    "r1 = RootOf(p5, 1)\n",
    "display(r1.evalf())\n",
    "display(r1)\n",
    "display(r1.conjugate())"
   ]
  },
  {
   "cell_type": "markdown",
   "id": "1884705e",
   "metadata": {
    "slideshow": {
     "slide_type": "subslide"
    }
   },
   "source": [
    "# Symbolic manipulation needs the polynomial (not the roots)"
   ]
  },
  {
   "cell_type": "code",
   "execution_count": 19,
   "id": "68de2021",
   "metadata": {},
   "outputs": [
    {
     "data": {
      "text/plain": [
       "QQ<sqrt(2)>"
      ]
     },
     "metadata": {},
     "output_type": "display_data"
    },
    {
     "data": {
      "text/plain": [
       "ANP([mpq(4,1), mpq(5,1)], [mpq(1,1), mpq(0,1), mpq(-2,1)], QQ)"
      ]
     },
     "metadata": {},
     "output_type": "display_data"
    }
   ],
   "source": [
    "# For heavy symbolic work we need to create a ring:\n",
    "K = QQ.algebraic_field(sqrt(2))\n",
    "\n",
    "# Convert an ordinary tree expression into the ring:\n",
    "e = K.from_sympy(4*sqrt(2) + 5)\n",
    "\n",
    "display(K)\n",
    "display(e)"
   ]
  },
  {
   "cell_type": "markdown",
   "id": "07b48872",
   "metadata": {},
   "source": [
    "- `ANP` stands for Algebraic Number Poly.\n",
    "- `QQ` means the rationals $\\mathbb{Q}$.\n",
    "- `K` is $\\mathbb{Q}(\\sqrt{2})$.\n",
    "- Read the above as \"$4x + 5 \\mod x^2 - 2$\"\n",
    "- `ANP` does not care whether $x$ is $+\\sqrt{2}$ or $-\\sqrt{2}$ (it just wants the polynomial)."
   ]
  },
  {
   "cell_type": "markdown",
   "id": "66d661fc",
   "metadata": {
    "slideshow": {
     "slide_type": "subslide"
    }
   },
   "source": [
    "# Finding the polynomial (since we need it)"
   ]
  },
  {
   "cell_type": "code",
   "execution_count": 20,
   "id": "a0078569",
   "metadata": {},
   "outputs": [
    {
     "data": {
      "image/png": "[encoded data removed]",
      "text/latex": [
       "$\\displaystyle x^{2} - 2$"
      ],
      "text/plain": [
       " 2    \n",
       "x  - 2"
      ]
     },
     "execution_count": 20,
     "metadata": {},
     "output_type": "execute_result"
    }
   ],
   "source": [
    "minpoly(sqrt(2)) # SymPy's minpoly function"
   ]
  },
  {
   "cell_type": "code",
   "execution_count": 21,
   "id": "93a26930",
   "metadata": {},
   "outputs": [
    {
     "data": {
      "image/png": "[encoded data removed]",
      "text/latex": [
       "$\\displaystyle 32 x^{5} - 16 x^{4} - 32 x^{3} + 12 x^{2} + 6 x - 1$"
      ],
      "text/plain": [
       "    5       4       3       2          \n",
       "32⋅x  - 16⋅x  - 32⋅x  + 12⋅x  + 6⋅x - 1"
      ]
     },
     "execution_count": 21,
     "metadata": {},
     "output_type": "execute_result"
    }
   ],
   "source": [
    "minpoly(cos(pi/11))"
   ]
  },
  {
   "cell_type": "code",
   "execution_count": 22,
   "id": "b2cd2c91",
   "metadata": {},
   "outputs": [
    {
     "data": {
      "image/png": "[encoded data removed]",
      "text/latex": [
       "$\\displaystyle x^{4} - 10 x^{2} + 1$"
      ],
      "text/plain": [
       " 4       2    \n",
       "x  - 10⋅x  + 1"
      ]
     },
     "execution_count": 22,
     "metadata": {},
     "output_type": "execute_result"
    }
   ],
   "source": [
    "minpoly(sqrt(2) + sqrt(3))"
   ]
  },
  {
   "cell_type": "markdown",
   "id": "e91d4f2b",
   "metadata": {},
   "source": [
    "- Every algebraic number has a minimal polynomial.\n",
    "- Computing it can expensive in some cases but obviously not with RootOf:"
   ]
  },
  {
   "cell_type": "code",
   "execution_count": 23,
   "id": "dbf26d73",
   "metadata": {},
   "outputs": [
    {
     "data": {
      "image/png": "[encoded data removed]",
      "text/latex": [
       "$\\displaystyle \\operatorname{CRootOf} {\\left(x^{5} - x + 1, 0\\right)}$"
      ],
      "text/plain": [
       "       ⎛ 5           ⎞\n",
       "CRootOf⎝x  - x + 1, 0⎠"
      ]
     },
     "execution_count": 23,
     "metadata": {},
     "output_type": "execute_result"
    }
   ],
   "source": [
    "r0"
   ]
  },
  {
   "cell_type": "code",
   "execution_count": 24,
   "id": "1c0c00bf",
   "metadata": {},
   "outputs": [
    {
     "data": {
      "image/png": "[encoded data removed]",
      "text/latex": [
       "$\\displaystyle x^{5} - x + 1$"
      ],
      "text/plain": [
       " 5        \n",
       "x  - x + 1"
      ]
     },
     "execution_count": 24,
     "metadata": {},
     "output_type": "execute_result"
    }
   ],
   "source": [
    "minpoly(r0)"
   ]
  },
  {
   "cell_type": "markdown",
   "id": "8a812bde",
   "metadata": {
    "slideshow": {
     "slide_type": "subslide"
    }
   },
   "source": [
    "# Conclusions so far:\n",
    "\n",
    "- A polynomial already is the best way to represent its own roots.\n",
    "- Radicals are horrible so Abel-Ruffini is irrelevant.\n",
    "- It is better to have the polynomial than a radical formula for its roots.\n",
    "- Numerically it is better to have the polynomial.\n",
    "- Symbolically it is better to have the polynomial.\n",
    "- Even the quadratic formula should not be used!\n",
    "- **Having a polynomial equation for $x$ already means that $x$ is \"known\"**"
   ]
  },
  {
   "cell_type": "markdown",
   "id": "3859157d",
   "metadata": {
    "slideshow": {
     "slide_type": "slide"
    }
   },
   "source": [
    "# Resultants (first definition)\n",
    "\n",
    "Given two polynomials $$p_a(x) = a_0 x^2 + a_1 x + a_2 \\quad\\quad p_b(x) = b_0 x^3 + b_1 x^2 + b_2 x + b_3$$ we can define their Sylvester matrix:\n",
    "$$\n",
    "S(p_a, p_b) = \\left[\\begin{matrix}a_{0} & 0 & 0 & b_{0} & 0\\\\a_{1} & a_{0} & 0 & b_{1} & b_{0}\\\\a_{2} & a_{1} & a_{0} & b_{2} & b_{1}\\\\0 & a_{2} & a_{1} & b_{3} & b_{2}\\\\0 & 0 & a_{2} & 0 & b_{3}\\end{matrix}\\right]\n",
    "$$\n",
    "The determinant of $S$ is known as the (Sylvester-)resultant of the two polynomials:\n",
    "\n",
    "$$\\operatorname{res}_x(p_a, p_b) = \\det(S(p_a, p_b))$$.\n",
    "\n",
    "If $p_a,p_b \\in R[x]$ then $\\operatorname{res}_x(p_a, p_b) \\in R$."
   ]
  },
  {
   "cell_type": "markdown",
   "id": "b85b0bd8",
   "metadata": {
    "slideshow": {
     "slide_type": "subslide"
    }
   },
   "source": [
    "# Resultants (second definition)\n",
    "\n",
    "Given two polynomials\n",
    "\n",
    "$$p_a(x) = a_0(x - \\lambda_1)(x-\\lambda_2) \\quad\\quad p_b(x) = b_0(x - \\mu_1)(x - \\mu_2)(x - \\mu_3)$$\n",
    "\n",
    "the resultant is defined as\n",
    "$$\n",
    "\\operatorname{res}_x(p_a, p_b) = a_0^3 b_0^2 \\prod_{i,j} (\\lambda_i - \\mu_j)\n",
    "$$\n",
    "If the ring of coefficients for the two polynomials is an integral domain (always true for our purposes) then this is equivalent to the previous definition.\n",
    "\n",
    "**Conclusion:** Two polynomials have a root in common iff their resultant is zero."
   ]
  },
  {
   "cell_type": "code",
   "execution_count": 25,
   "id": "6e84f532",
   "metadata": {},
   "outputs": [
    {
     "data": {
      "image/png": "[encoded data removed]",
      "text/latex": [
       "$\\displaystyle 4 y^{4} - 2 y^{2} + \\frac{1}{4}$"
      ],
      "text/plain": [
       "   4      2   1\n",
       "4⋅y  - 2⋅y  + ─\n",
       "              4"
      ]
     },
     "execution_count": 25,
     "metadata": {},
     "output_type": "execute_result"
    }
   ],
   "source": [
    "x, y = symbols('x, y') # use SymPy's resultant function\n",
    "pa = x**2 + y**2 - 1\n",
    "pb = x**2 + 3*y**2 - S(3)/2\n",
    "resultant(pa, pb, x) # When this is zero pa and pb have a common root for x."
   ]
  },
  {
   "cell_type": "code",
   "execution_count": 26,
   "id": "e817b630",
   "metadata": {
    "slideshow": {
     "slide_type": "subslide"
    }
   },
   "outputs": [],
   "source": [
    "import numpy as np\n",
    "import matplotlib.pyplot as plt\n",
    "import matplotlib.colors as colors\n",
    "\n",
    "def latexd(expr):\n",
    "    return rf'${latex(expr)}$'\n",
    "\n",
    "def show_zeros(expr, x, y, subs={}, xlim=(-2, 2), ylim=(-2, 2), npoints=1000):\n",
    "    if isinstance(expr, list):\n",
    "        multiple = True\n",
    "        exprs = expr\n",
    "    else:\n",
    "        multiple = False\n",
    "        exprs = [expr]\n",
    "\n",
    "    xvals = np.linspace(*xlim, 1000)\n",
    "    yvals = np.linspace(*ylim, 1000)\n",
    "    X, Y = np.meshgrid(xvals, yvals)\n",
    "    fs1 = [lambdify((x, y), expr.subs(subs)) for expr in exprs]\n",
    "    fs2 = [lambdify((x, y), sqf_part(expr.subs(subs))) for expr in exprs]\n",
    "    Fs1 = [f(X, Y) for f in fs1]\n",
    "    Fs2 = [f(X, Y) for f in fs2]\n",
    "    Fcs = [np.sign(F)*np.log(1 + np.abs(F)) for F in Fs1]\n",
    "\n",
    "    plt.figure()\n",
    "    if not multiple:\n",
    "        [Fc] = Fcs\n",
    "        maxabs = np.max(np.abs(Fc))\n",
    "        plt.imshow(Fc[::-1,:], extent=xlim+ylim, vmin=-maxabs, vmax=maxabs, aspect='auto')\n",
    "        for F in Fs2:\n",
    "            obj = plt.contour(X, Y, F, levels=[0])\n",
    "    else:\n",
    "        for F, col in zip(Fs2, ['red', 'blue']):\n",
    "            obj = plt.contour(X, Y, F, levels=[0], colors=[col])\n",
    "    title = ',    '.join([latexd(e) for e in exprs])\n",
    "    if subs:\n",
    "        title += '\\t' + latexd(subs)\n",
    "        title += '\\n' + ',    '.join([latexd(e.subs(subs)) for e in exprs])\n",
    "    plt.title(title)\n",
    "    plt.xlabel(latexd(x), size='x-large')\n",
    "    plt.ylabel(latexd(y), size='x-large', rotation=0)"
   ]
  },
  {
   "cell_type": "code",
   "execution_count": 27,
   "id": "66c1a5bf",
   "metadata": {
    "slideshow": {
     "slide_type": "subslide"
    }
   },
   "outputs": [
    {
     "data": {
      "image/png": "[encoded data removed]",
      "text/plain": [
       "<Figure size 432x288 with 1 Axes>"
      ]
     },
     "metadata": {
      "needs_background": "light"
     },
     "output_type": "display_data"
    }
   ],
   "source": [
    "show_zeros([pa, pb], x, y)"
   ]
  },
  {
   "cell_type": "code",
   "execution_count": 28,
   "id": "e4805a62",
   "metadata": {},
   "outputs": [
    {
     "data": {
      "image/png": "[encoded data removed]",
      "text/latex": [
       "$\\displaystyle \\left[ - \\frac{1}{2}, \\  - \\frac{1}{2}, \\  \\frac{1}{2}, \\  \\frac{1}{2}\\right]$"
      ],
      "text/plain": [
       "[-1/2, -1/2, 1/2, 1/2]"
      ]
     },
     "execution_count": 28,
     "metadata": {},
     "output_type": "execute_result"
    }
   ],
   "source": [
    "real_roots(resultant(pa, pb, x))"
   ]
  },
  {
   "cell_type": "code",
   "execution_count": 29,
   "id": "b4f1bf65",
   "metadata": {},
   "outputs": [
    {
     "data": {
      "image/png": "[encoded data removed]",
      "text/latex": [
       "$\\displaystyle 4 x^{4} - 6 x^{2} + \\frac{9}{4}$"
      ],
      "text/plain": [
       "   4      2   9\n",
       "4⋅x  - 6⋅x  + ─\n",
       "              4"
      ]
     },
     "execution_count": 29,
     "metadata": {},
     "output_type": "execute_result"
    }
   ],
   "source": [
    "resultant(pa, pb, y)"
   ]
  },
  {
   "cell_type": "code",
   "execution_count": 30,
   "id": "8dc127e1",
   "metadata": {},
   "outputs": [
    {
     "data": {
      "image/png": "[encoded data removed]",
      "text/latex": [
       "$\\displaystyle \\left[ - \\frac{\\sqrt{3}}{2}, \\  - \\frac{\\sqrt{3}}{2}, \\  \\frac{\\sqrt{3}}{2}, \\  \\frac{\\sqrt{3}}{2}\\right]$"
      ],
      "text/plain": [
       "⎡-√3   -√3   √3  √3⎤\n",
       "⎢────, ────, ──, ──⎥\n",
       "⎣ 2     2    2   2 ⎦"
      ]
     },
     "execution_count": 30,
     "metadata": {},
     "output_type": "execute_result"
    }
   ],
   "source": [
    "real_roots(_)"
   ]
  }
 ],
 "metadata": {
  "celltoolbar": "Slideshow",
  "kernelspec": {
   "display_name": "Python 3 (ipykernel)",
   "language": "python",
   "name": "python3"
  },
  "language_info": {
   "codemirror_mode": {
    "name": "ipython",
    "version": 3
   },
   "file_extension": ".py",
   "mimetype": "text/x-python",
   "name": "python",
   "nbconvert_exporter": "python",
   "pygments_lexer": "ipython3",
   "version": "3.8.9"
  }
 },
 "nbformat": 4,
 "nbformat_minor": 5
}
